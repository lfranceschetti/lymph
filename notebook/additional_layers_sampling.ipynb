{
 "cells": [
  {
   "cell_type": "markdown",
   "id": "080784ea",
   "metadata": {},
   "source": [
    "## Importing"
   ]
  },
  {
   "cell_type": "code",
   "execution_count": 13,
   "id": "1b6a8aba",
   "metadata": {},
   "outputs": [],
   "source": [
    "import pandas as pd\n",
    "import scipy as sp\n",
    "import numpy as np\n",
    "\n",
    "import emcee                     \n",
    "from multiprocessing import Pool\n",
    "\n",
    "import lymph"
   ]
  },
  {
   "cell_type": "markdown",
   "id": "5ad80910",
   "metadata": {},
   "source": [
    "## Creating or Loading Model"
   ]
  },
  {
   "cell_type": "code",
   "execution_count": 14,
   "id": "9fd5cb54",
   "metadata": {},
   "outputs": [
    {
     "name": "stdout",
     "output_type": "stream",
     "text": [
      "Unilateral lymphatic system with 1 tumor(s) and 6 LNL(s).\n",
      "primary-0.0%->II primary-0.0%->III primary-0.0%->IV primary-0.0%->VII II-0.0%->I II-0.0%->III II-0.0%->V II-0.0%->VII III-0.0%->IV\n"
     ]
    }
   ],
   "source": [
    "NEW_MODEL = True\n",
    "\n",
    "filename = \"./data/extended_system.hdf5\"\n",
    "\n",
    "if not NEW_MODEL:\n",
    "    extended_systm = lymph.utils.system_from_hdf(\n",
    "    filename=filename,\n",
    "    name=\"extended/model\")\n",
    "else:\n",
    "    graph = {\n",
    "        ('tumor', 'primary') : ['II', 'III', 'IV','VII'],\n",
    "        ('lnl', 'I')         : [], \n",
    "        ('lnl', 'II')        : ['I', 'III', 'V', 'VII'], \n",
    "        ('lnl', 'III')       : ['IV'], \n",
    "        ('lnl', 'IV')        : [],\n",
    "        ('lnl', 'V')         : [],\n",
    "        ('lnl', 'VII')       : [],\n",
    "    }\n",
    "    extended_systm = lymph.Unilateral(graph=graph)\n",
    "\n",
    "print(extended_systm)"
   ]
  },
  {
   "cell_type": "markdown",
   "id": "b7ac794b",
   "metadata": {},
   "source": [
    "## Modalities"
   ]
  },
  {
   "cell_type": "code",
   "execution_count": 15,
   "id": "a2663e5e",
   "metadata": {},
   "outputs": [],
   "source": [
    "if NEW_MODEL:\n",
    "    mri_and_pet_spsn = {\"MRI\": [0.63, 0.81], \n",
    "                        \"PET\": [0.86, 0.79]}\n",
    "#                           ^     ^\n",
    "#                  specificty     sensitivity\n",
    "    extended_systm.modalities = mri_and_pet_spsn"
   ]
  },
  {
   "cell_type": "markdown",
   "id": "f8bd5c6f",
   "metadata": {},
   "source": [
    "## Data"
   ]
  },
  {
   "cell_type": "code",
   "execution_count": 18,
   "id": "91aa8df7",
   "metadata": {},
   "outputs": [
    {
     "data": {
      "text/html": [
       "<div>\n",
       "<style scoped>\n",
       "    .dataframe tbody tr th:only-of-type {\n",
       "        vertical-align: middle;\n",
       "    }\n",
       "\n",
       "    .dataframe tbody tr th {\n",
       "        vertical-align: top;\n",
       "    }\n",
       "\n",
       "    .dataframe thead tr th {\n",
       "        text-align: left;\n",
       "    }\n",
       "</style>\n",
       "<table border=\"1\" class=\"dataframe\">\n",
       "  <thead>\n",
       "    <tr>\n",
       "      <th></th>\n",
       "      <th colspan=\"6\" halign=\"left\">PET</th>\n",
       "      <th colspan=\"6\" halign=\"left\">MRI</th>\n",
       "      <th>info</th>\n",
       "    </tr>\n",
       "    <tr>\n",
       "      <th></th>\n",
       "      <th>I</th>\n",
       "      <th>II</th>\n",
       "      <th>III</th>\n",
       "      <th>IV</th>\n",
       "      <th>V</th>\n",
       "      <th>VII</th>\n",
       "      <th>I</th>\n",
       "      <th>II</th>\n",
       "      <th>III</th>\n",
       "      <th>IV</th>\n",
       "      <th>V</th>\n",
       "      <th>VII</th>\n",
       "      <th>t_stage</th>\n",
       "    </tr>\n",
       "  </thead>\n",
       "  <tbody>\n",
       "    <tr>\n",
       "      <th>0</th>\n",
       "      <td>False</td>\n",
       "      <td>True</td>\n",
       "      <td>False</td>\n",
       "      <td>False</td>\n",
       "      <td>False</td>\n",
       "      <td>False</td>\n",
       "      <td>False</td>\n",
       "      <td>True</td>\n",
       "      <td>False</td>\n",
       "      <td>False</td>\n",
       "      <td>False</td>\n",
       "      <td>False</td>\n",
       "      <td>late</td>\n",
       "    </tr>\n",
       "    <tr>\n",
       "      <th>1</th>\n",
       "      <td>NaN</td>\n",
       "      <td>NaN</td>\n",
       "      <td>NaN</td>\n",
       "      <td>NaN</td>\n",
       "      <td>NaN</td>\n",
       "      <td>NaN</td>\n",
       "      <td>False</td>\n",
       "      <td>False</td>\n",
       "      <td>True</td>\n",
       "      <td>False</td>\n",
       "      <td>False</td>\n",
       "      <td>False</td>\n",
       "      <td>early</td>\n",
       "    </tr>\n",
       "    <tr>\n",
       "      <th>2</th>\n",
       "      <td>True</td>\n",
       "      <td>True</td>\n",
       "      <td>True</td>\n",
       "      <td>True</td>\n",
       "      <td>False</td>\n",
       "      <td>True</td>\n",
       "      <td>True</td>\n",
       "      <td>True</td>\n",
       "      <td>True</td>\n",
       "      <td>True</td>\n",
       "      <td>False</td>\n",
       "      <td>True</td>\n",
       "      <td>late</td>\n",
       "    </tr>\n",
       "    <tr>\n",
       "      <th>3</th>\n",
       "      <td>False</td>\n",
       "      <td>True</td>\n",
       "      <td>True</td>\n",
       "      <td>True</td>\n",
       "      <td>False</td>\n",
       "      <td>True</td>\n",
       "      <td>False</td>\n",
       "      <td>True</td>\n",
       "      <td>True</td>\n",
       "      <td>True</td>\n",
       "      <td>False</td>\n",
       "      <td>True</td>\n",
       "      <td>late</td>\n",
       "    </tr>\n",
       "    <tr>\n",
       "      <th>4</th>\n",
       "      <td>False</td>\n",
       "      <td>True</td>\n",
       "      <td>False</td>\n",
       "      <td>False</td>\n",
       "      <td>False</td>\n",
       "      <td>True</td>\n",
       "      <td>NaN</td>\n",
       "      <td>NaN</td>\n",
       "      <td>NaN</td>\n",
       "      <td>NaN</td>\n",
       "      <td>NaN</td>\n",
       "      <td>NaN</td>\n",
       "      <td>early</td>\n",
       "    </tr>\n",
       "  </tbody>\n",
       "</table>\n",
       "</div>"
      ],
      "text/plain": [
       "     PET                                      MRI                              \\\n",
       "       I    II    III     IV      V    VII      I     II    III     IV      V   \n",
       "0  False  True  False  False  False  False  False   True  False  False  False   \n",
       "1    NaN   NaN    NaN    NaN    NaN    NaN  False  False   True  False  False   \n",
       "2   True  True   True   True  False   True   True   True   True   True  False   \n",
       "3  False  True   True   True  False   True  False   True   True   True  False   \n",
       "4  False  True  False  False  False   True    NaN    NaN    NaN    NaN    NaN   \n",
       "\n",
       "            info  \n",
       "     VII t_stage  \n",
       "0  False    late  \n",
       "1  False   early  \n",
       "2   True    late  \n",
       "3   True    late  \n",
       "4    NaN   early  "
      ]
     },
     "execution_count": 18,
     "metadata": {},
     "output_type": "execute_result"
    }
   ],
   "source": [
    "if NEW_MODEL:\n",
    "    data = pd.read_csv(\"./data/USZ_ipsi.csv\", \n",
    "                   header=[0,1], )\n",
    "    extended_systm.patient_data = data\n",
    "data.head()"
   ]
  },
  {
   "cell_type": "markdown",
   "id": "fc495797",
   "metadata": {},
   "source": [
    "## Storage of model"
   ]
  },
  {
   "cell_type": "code",
   "execution_count": 19,
   "id": "4f9bbf51",
   "metadata": {},
   "outputs": [
    {
     "name": "stderr",
     "output_type": "stream",
     "text": [
      "C:\\Users\\Luca\\anaconda3\\envs\\lymph2\\lib\\site-packages\\lymph\\utils.py:268: PerformanceWarning: \n",
      "your performance may suffer as PyTables will pickle object types that it cannot\n",
      "map directly to c-types [inferred_type->mixed,key->block0_values] [items->MultiIndex([( 'PET',       'I'),\n",
      "            ( 'PET',      'II'),\n",
      "            ( 'PET',     'III'),\n",
      "            ( 'PET',      'IV'),\n",
      "            ( 'PET',       'V'),\n",
      "            ( 'PET',     'VII'),\n",
      "            ( 'MRI',       'I'),\n",
      "            ( 'MRI',      'II'),\n",
      "            ( 'MRI',     'III'),\n",
      "            ( 'MRI',      'IV'),\n",
      "            ( 'MRI',       'V'),\n",
      "            ( 'MRI',     'VII'),\n",
      "            ('info', 't_stage')],\n",
      "           )]\n",
      "\n",
      "  store.put(\n"
     ]
    }
   ],
   "source": [
    "if NEW_MODEL:\n",
    "    extended_systm.to_hdf(\n",
    "        filename=filename, \n",
    "        name=\"extended/model\"\n",
    "    )"
   ]
  },
  {
   "cell_type": "markdown",
   "id": "306350c3",
   "metadata": {},
   "source": [
    "## Likelihood"
   ]
  },
  {
   "cell_type": "code",
   "execution_count": 20,
   "id": "dc23bcfe",
   "metadata": {},
   "outputs": [],
   "source": [
    "def llh(theta, sys, early_p=0.3, max_t=10):\n",
    "    spread_probs, late_p = theta[:-1], theta[-1]\n",
    "    \n",
    "    if late_p > 1. or late_p < 0.:\n",
    "        return -np.inf\n",
    "    \n",
    "    t = np.arange(max_t + 1)\n",
    "    time_dists={\n",
    "        \"early\": lymph.utils.fast_binomial_pmf(t, max_t, early_p),\n",
    "        \"late\" : lymph.utils.fast_binomial_pmf(t, max_t, late_p)\n",
    "    }\n",
    "    \n",
    "    return sys.marginal_log_likelihood(\n",
    "        spread_probs, t_stages=[\"early\", \"late\"], time_dists=time_dists\n",
    "    )"
   ]
  },
  {
   "cell_type": "markdown",
   "id": "464512f4",
   "metadata": {},
   "source": [
    "## Sampling"
   ]
  },
  {
   "cell_type": "code",
   "execution_count": 21,
   "id": "484f5ac9",
   "metadata": {},
   "outputs": [
    {
     "name": "stdout",
     "output_type": "stream",
     "text": [
      "Starting sampling\n"
     ]
    }
   ],
   "source": [
    "if NEW_MODEL:\n",
    "    # Settings for the sampler\n",
    "    ndim = len(extended_systm.spread_probs) + 1\n",
    "    nwalkers = 10 * ndim\n",
    "    max_steps = 2\n",
    "\n",
    "    # prepare the backend\n",
    "    backend = emcee.backends.HDFBackend(\n",
    "        filename=filename,\n",
    "        name=\"extended/samples\"\n",
    "    )\n",
    "    backend.reset(nwalkers, ndim)\n",
    "\n",
    "    # the actual sampling round\n",
    "    with Pool() as pool:\n",
    "        sampler = lymph.utils.EnsembleSampler(\n",
    "            nwalkers, ndim, \n",
    "            llh, \n",
    "            kwargs={\"sys\": extended_systm}, \n",
    "            pool=pool\n",
    "        )\n",
    "        acor_list = sampler.run_sampling(max_steps)\n",
    "        print(acor_list)\n",
    "else:\n",
    "    recover_backend = emcee.backends.HDFBackend(filename=filename, name=\"extended/samples\")\n",
    "    chain = recover_backend.get_chain()\n",
    "    print(chain)\n"
   ]
  },
  {
   "cell_type": "markdown",
   "id": "b5bf6aa7",
   "metadata": {},
   "source": [
    "## Risk prediction"
   ]
  },
  {
   "cell_type": "code",
   "execution_count": null,
   "id": "19e002d6",
   "metadata": {},
   "outputs": [],
   "source": [
    "samples_HMM = acor_list\n",
    "\n",
    "theta = np.mean(samples_HMM, axis=0)\n",
    "\n",
    "extended_systm.spread_probs = theta[:-1]\n",
    "\n",
    "diagnose = {\"PET\": np.array([0, 1, 0, 0])}\n",
    "thin = 50\n",
    "max_t=10\n",
    "t = np.arange(max_t + 1)\n",
    "early_p=0.3\n",
    "late_p = theta[-1]\n",
    "\n",
    "\n",
    "time_dists={\n",
    "        \"early\": lymph.utils.fast_binomial_pmf(t, max_t, early_p),\n",
    "        \"late\" : lymph.utils.fast_binomial_pmf(t, max_t, late_p)\n",
    "    }\n",
    "\n",
    "\n",
    "#Why is (was) this divided into the different T-stages\n",
    "risks = []\n",
    "np.random.seed(SEED)\n",
    "for sample in np.random.permutation(samples_HMM)[::thin]:\n",
    "    extended_systm.spread_probs = sample\n",
    "    risks.append(\n",
    "        extended_systm.risk(\n",
    "            diagnoses=diagnose, \n",
    "            time_dist=time_dists[\"early\", \"late\"], \n",
    "            mode=\"HMM\"\n",
    "        )\n",
    "    )"
   ]
  }
 ],
 "metadata": {
  "kernelspec": {
   "display_name": "Python 3 (ipykernel)",
   "language": "python",
   "name": "python3"
  },
  "language_info": {
   "codemirror_mode": {
    "name": "ipython",
    "version": 3
   },
   "file_extension": ".py",
   "mimetype": "text/x-python",
   "name": "python",
   "nbconvert_exporter": "python",
   "pygments_lexer": "ipython3",
   "version": "3.8.12"
  }
 },
 "nbformat": 4,
 "nbformat_minor": 5
}
